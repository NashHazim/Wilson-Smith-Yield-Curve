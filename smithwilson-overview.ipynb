{
 "cells": [
  {
   "cell_type": "markdown",
   "metadata": {},
   "source": [
    "#  Smith-Wilson Model Overview\n",
    "\n",
    "This Jupyter notebook shows you how to load the **smithwilson** model included in the **smithwilson** project. It also walks you through steps to create the same model from scratch.\n",
    "\n",
    "The Smith-Wilson model calculates extraporated interest rates using the Smith-Wilson method.\n",
    "\n",
    "The Smith-Wilson method is used for extraporating risk-free interest rates under the Solvency II framework. The method is described in details in *QIS 5 Risk-free interest rates – Extrapolation method*, [a technical paper](https://eiopa.europa.eu/Publications/QIS/ceiops-paper-extrapolation-risk-free-rates_en-20100802.pdf) issued by CEIOPS(the predecessor of EIOPA). The technical paper is available on [EIOPA's web site](https://eiopa.europa.eu/publications/qis/insurance/insurance-quantitative-impact-study-5/background-documents).\n",
    "Formulas and variables in this notebook are named consistently with the mathmatical symbols in the technical paper.\n",
    "\n",
    "This project is inspired by a pure Python implementation of Smith-Wilson\n",
    "yield curve fitting algorithm created by Dejan Simic.\n",
    "His original work can be found [on his github page](https://github.com/simicd/smith-wilson-py).\n",
    "\n",
    "[the technical paper]: https://eiopa.europa.eu/Publications/QIS/ceiops-paper-extrapolation-risk-free-rates_en-20100802.pdf"
   ]
  },
  {
   "cell_type": "markdown",
   "metadata": {},
   "source": [
    "## About this notebook\n",
    "\n",
    "This notebook is included in **lifelib** package as part of the **smithwilson** project."
   ]
  },
  {
   "cell_type": "markdown",
   "metadata": {},
   "source": [
    "## Reading in the complete model\n",
    "\n",
    "The complete model is included under the **smithwilson** project in lifelib package. To install lifelib package, go to Anaconda prompt and type **pip install lifelib**"
   ]
  },
  {
   "cell_type": "code",
   "execution_count": 73,
   "metadata": {},
   "outputs": [],
   "source": [
    "import modelx as mx\n",
    "import pandas as pd\n",
    "import matplotlib.pyplot as plt\n",
    "from math import log, exp\n",
    "import numpy as np"
   ]
  },
  {
   "cell_type": "code",
   "execution_count": 74,
   "metadata": {},
   "outputs": [],
   "source": [
    "data = pd.read_excel('//vact-svr/TIBActuarial/3 Submission/310 BNM/QT3/Data/BNM Spot Rates.xlsx')"
   ]
  },
  {
   "cell_type": "markdown",
   "metadata": {},
   "source": [
    "## Building the Smith-Wilson model from scratch\n",
    "\n",
    "We now try to create the **smithwilson** model from scratch. \n",
    "The model we create is essentially the same as the model included in the **smithwilson** project, excpt for docstrings.\n",
    "\n",
    "Below are the steps to create the model.\n",
    "1. Create a model and space.\n",
    "2. Input values to as *references*.\n",
    "3. Define cells.\n",
    "4. Get the results.\n",
    "5. Save the model."
   ]
  },
  {
   "cell_type": "markdown",
   "metadata": {},
   "source": [
    "### 1. Create a model and space\n",
    "\n",
    "First, we create an empty model named `smithwilson2`, and also an empty space named `SmithWilson` in the model. \n",
    "The following statement creates the model and space, and assign the space to a name `s2`."
   ]
  },
  {
   "cell_type": "code",
   "execution_count": 75,
   "metadata": {},
   "outputs": [
    {
     "name": "stderr",
     "output_type": "stream",
     "text": [
      "UserWarning: Existing model 'smithwilson2' renamed to 'smithwilson2_BAK2'\n"
     ]
    }
   ],
   "source": [
    "s2 = mx.new_model(name=\"smithwilson2\").new_space(name=\"SmithWilson\")"
   ]
  },
  {
   "cell_type": "markdown",
   "metadata": {},
   "source": [
    "### 2. Input values to as *references*\n",
    "\n",
    "In this step, we create *references* in the *SmithWilson* space, and assign input values to the *references*.\n",
    "We will create cells and define their formulas in the sapce in the next step, and those *references* are referred by the formulas of the cells. \n",
    "\n",
    "The values are taken from https://github.com/simicd/smith-wilson-py/blob/master/main.py"
   ]
  },
  {
   "cell_type": "code",
   "execution_count": 76,
   "metadata": {},
   "outputs": [],
   "source": [
    "s2.spot_rates = data['Risk-free (spot rate)'][0:15].values.tolist()"
   ]
  },
  {
   "cell_type": "code",
   "execution_count": 77,
   "metadata": {},
   "outputs": [
    {
     "data": {
      "text/plain": [
       "[0.03021000000000074,\n",
       " 0.030330000000000717,\n",
       " 0.030380000000000663,\n",
       " 0.031244075429693208,\n",
       " 0.03222000000000063,\n",
       " 0.03292774471805849,\n",
       " 0.03343000000000059,\n",
       " 0.033824979979354367,\n",
       " 0.034235827566096805,\n",
       " 0.03475000000000048,\n",
       " 0.035399807833129994,\n",
       " 0.036122895840985846,\n",
       " 0.03686157735162202,\n",
       " 0.03757879563579394,\n",
       " 0.03825000000000037]"
      ]
     },
     "execution_count": 77,
     "metadata": {},
     "output_type": "execute_result"
    }
   ],
   "source": [
    "s2.spot_rates"
   ]
  },
  {
   "cell_type": "markdown",
   "metadata": {},
   "source": [
    "### Set Last Liquid Point (LLP)"
   ]
  },
  {
   "cell_type": "code",
   "execution_count": 78,
   "metadata": {},
   "outputs": [],
   "source": [
    "s2.N = 15"
   ]
  },
  {
   "cell_type": "markdown",
   "metadata": {},
   "source": [
    "### Set Alpha"
   ]
  },
  {
   "cell_type": "code",
   "execution_count": 79,
   "metadata": {},
   "outputs": [],
   "source": [
    "# Alpha parameter in the Smith-Wilson functions\n",
    "s2.alpha = 0.156  "
   ]
  },
  {
   "cell_type": "markdown",
   "metadata": {},
   "source": [
    "### Set Long Term Forward Rate (LTFR)"
   ]
  },
  {
   "cell_type": "code",
   "execution_count": 80,
   "metadata": {},
   "outputs": [],
   "source": [
    "ufr = 0.05    # Annual compound"
   ]
  },
  {
   "cell_type": "code",
   "execution_count": 81,
   "metadata": {},
   "outputs": [],
   "source": [
    "s2.UFR = log(1 + ufr) "
   ]
  },
  {
   "cell_type": "markdown",
   "metadata": {},
   "source": [
    "You also nee to import `log` and `exp` from `math` module for later use. \n",
    "We also use numpy later, so import `numpy` as `np`. \n",
    "These functions and module need to be accessible from cells in `SmithWilson` space,\n",
    "so assign them to refs."
   ]
  },
  {
   "cell_type": "code",
   "execution_count": 82,
   "metadata": {},
   "outputs": [],
   "source": [
    "s2.log = log\n",
    "s2.exp = exp\n",
    "s2.np = np"
   ]
  },
  {
   "cell_type": "markdown",
   "metadata": {},
   "source": [
    "### 3. Define cells\n",
    "\n",
    "In the previous step, we have assigned all the necessary inputs in the *SmithWilson* space. In this step we move on to defining cells.\n",
    "\n",
    "We use `defcells` decorator to define cells from Python functions. `defcells` decorator creates cells in the *current* space, so confirm the *SmithWilson* space we just created is set to the *current* space by the following code."
   ]
  },
  {
   "cell_type": "code",
   "execution_count": 83,
   "metadata": {},
   "outputs": [
    {
     "data": {
      "text/plain": [
       "<UserSpace SmithWilson in smithwilson2>"
      ]
     },
     "execution_count": 83,
     "metadata": {},
     "output_type": "execute_result"
    }
   ],
   "source": [
    "mx.cur_space()"
   ]
  },
  {
   "cell_type": "markdown",
   "metadata": {},
   "source": [
    "The names of the cells below are set consistent with the mathmatical symbols in the technical paper.\n",
    "\n",
    "* `u(i)`: Time at each `i` in years. Time steps can be uneven. For the maturities of the zero coupon bonds with known prices $u_i$\n",
    "* `m(i)`: The market prices of the zero coupon bonds, $m_i$\n",
    "* `mu(i)`: Ultimate Forward Rate (UFR) discount factors, $\\mu_i$\n",
    "* `W(i, j)`: The Wilson functions, $W(t_i, u_j)$"
   ]
  },
  {
   "cell_type": "code",
   "execution_count": 84,
   "metadata": {},
   "outputs": [],
   "source": [
    "@mx.defcells\n",
    "def u(i):\n",
    "    \"\"\"Time to maturities\"\"\"\n",
    "    return i"
   ]
  },
  {
   "cell_type": "code",
   "execution_count": 85,
   "metadata": {},
   "outputs": [],
   "source": [
    "@mx.defcells\n",
    "def m(i):\n",
    "    \"\"\"Observed zero-coupon bond prices\"\"\"\n",
    "    return (1 + spot_rates[i-1]) ** (-u[i])\n",
    "\n",
    "\n",
    "@mx.defcells\n",
    "def mu(i):\n",
    "    \"\"\"Ultimate Forward Rate (UFR) discount factors\"\"\"\n",
    "    return exp(-UFR * u[i])"
   ]
  },
  {
   "cell_type": "code",
   "execution_count": 86,
   "metadata": {},
   "outputs": [],
   "source": [
    "@mx.defcells\n",
    "def W(i, j):\n",
    "    \"\"\"The Wilson functions\"\"\"\n",
    "\n",
    "    t = u[i]\n",
    "    uj = u[j]\n",
    "\n",
    "    return exp(-UFR * (t+uj)) * (\n",
    "            alpha * min(t, uj) - 0.5 * exp(-alpha * max(t, uj)) * (\n",
    "                    exp(alpha*min(t, uj)) - exp(-alpha*min(t, uj))))"
   ]
  },
  {
   "cell_type": "markdown",
   "metadata": {},
   "source": [
    "We want to use Numpy's vector and matrix operations to solve for $\\zeta$,\n",
    "so we create a vector or matrix version of cells for each of `m`, `mu`, `W`.\n",
    "These cells have no parameter and return numpy arrays."
   ]
  },
  {
   "cell_type": "code",
   "execution_count": 87,
   "metadata": {},
   "outputs": [],
   "source": [
    "@mx.defcells\n",
    "def m_vector():\n",
    "    return np.array([m(i) for i in range(1, N+1)])\n",
    "\n",
    "@mx.defcells\n",
    "def mu_vector():\n",
    "    return np.array([mu(i) for i in range(1, N+1)])\n",
    "\n",
    "@mx.defcells\n",
    "def W_matrix():\n",
    "    return np.array(\n",
    "        [[W(i, j) for j in range(1, N+1)] for i in range(1, N+1)]\n",
    "    )"
   ]
  },
  {
   "cell_type": "markdown",
   "metadata": {},
   "source": [
    "`zeta_vector` cells carries out the matrix-vector calcuculation: $\\zeta = \\bf W^{-1}(\\bf m - {\\mu})$.\n",
    "\n",
    "`zeta` extracts from an element from `zeta_vector` for each `i` "
   ]
  },
  {
   "cell_type": "code",
   "execution_count": 88,
   "metadata": {},
   "outputs": [],
   "source": [
    "@mx.defcells\n",
    "def zeta_vector():\n",
    "    return np.linalg.inv(W_matrix()) @ (m_vector() - mu_vector())\n",
    "\n",
    "@mx.defcells\n",
    "def zeta(i):\n",
    "    return zeta_vector()[i-1]"
   ]
  },
  {
   "cell_type": "markdown",
   "metadata": {},
   "source": [
    "`P(i)` cells calculates bond prices from `mu`, `zeta` and `W`. The values of `P(i)` should be the same as those of `m(i)` for `i=1,...,N` .\n",
    "\n",
    "`R(i)` are the extaporated annual compound rates. The values of `R(i)` should be the same as those of `spot_rates[i-1]` for `i=1,...,N`."
   ]
  },
  {
   "cell_type": "code",
   "execution_count": 89,
   "metadata": {},
   "outputs": [],
   "source": [
    "@mx.defcells\n",
    "def P(i):\n",
    "    \"\"\"Zero-coupon bond prices calculated by Smith-Wilson method.\"\"\"\n",
    "    return mu(i) + sum(zeta(j) * W(i, j) for j in range(1, N+1))\n",
    "\n",
    "\n",
    "@mx.defcells\n",
    "def R(i):\n",
    "    \"\"\"Extrapolated rates\"\"\"\n",
    "    return (1 / P(i)) ** (1 / u(i)) - 1"
   ]
  },
  {
   "cell_type": "markdown",
   "metadata": {},
   "source": [
    "### 4. Get the results"
   ]
  },
  {
   "cell_type": "markdown",
   "metadata": {},
   "source": [
    "You can check that the cells you define above exists in the `SmithWilson` space by getting the space's `cells` attribute."
   ]
  },
  {
   "cell_type": "code",
   "execution_count": 90,
   "metadata": {},
   "outputs": [
    {
     "data": {
      "text/plain": [
       "{P,\n",
       " R,\n",
       " W,\n",
       " W_matrix,\n",
       " m,\n",
       " m_vector,\n",
       " mu,\n",
       " mu_vector,\n",
       " u,\n",
       " zeta,\n",
       " zeta_vector}"
      ]
     },
     "execution_count": 90,
     "metadata": {},
     "output_type": "execute_result"
    }
   ],
   "source": [
    "s2.cells"
   ]
  },
  {
   "cell_type": "markdown",
   "metadata": {},
   "source": [
    "`R` cells calculates or holds the extraporated spot rates. You can see that for `i=1,...,25`, the values are the same ase the `sport_rates`.\n",
    "\n",
    "The code below outputs `R(i)` for `i=10, 15, 20, ..., 100`"
   ]
  },
  {
   "cell_type": "code",
   "execution_count": 91,
   "metadata": {},
   "outputs": [],
   "source": [
    "spot_rates = [s2.R[i] for i in range(1, 101, 1)]"
   ]
  },
  {
   "cell_type": "code",
   "execution_count": 92,
   "metadata": {},
   "outputs": [],
   "source": [
    "year = [i for i in range(1, 101, 1)]"
   ]
  },
  {
   "cell_type": "code",
   "execution_count": 93,
   "metadata": {},
   "outputs": [
    {
     "data": {
      "image/png": "[encoded data removed]",
      "text/plain": [
       "<Figure size 1440x720 with 1 Axes>"
      ]
     },
     "metadata": {
      "needs_background": "light"
     },
     "output_type": "display_data"
    }
   ],
   "source": [
    "plt.figure(figsize=(20,10))\n",
    "plt.plot(year, spot_rates)\n",
    "plt.title(\"Zero Curve\")\n",
    "plt.ylabel(\"Zero Rate (%)\")\n",
    "plt.xlabel(\"Maturity in Years\")\n",
    "plt.xticks(np.arange(min(year)+1, max(year)+1, 2.0))\n",
    "plt.show()"
   ]
  },
  {
   "cell_type": "code",
   "execution_count": 94,
   "metadata": {},
   "outputs": [
    {
     "data": {
      "text/html": [
       "<div>\n",
       "<style scoped>\n",
       "    .dataframe tbody tr th:only-of-type {\n",
       "        vertical-align: middle;\n",
       "    }\n",
       "\n",
       "    .dataframe tbody tr th {\n",
       "        vertical-align: top;\n",
       "    }\n",
       "\n",
       "    .dataframe thead th {\n",
       "        text-align: right;\n",
       "    }\n",
       "</style>\n",
       "<table border=\"1\" class=\"dataframe\">\n",
       "  <thead>\n",
       "    <tr style=\"text-align: right;\">\n",
       "      <th></th>\n",
       "      <th>Year</th>\n",
       "      <th>Spot Rates</th>\n",
       "    </tr>\n",
       "  </thead>\n",
       "  <tbody>\n",
       "    <tr>\n",
       "      <th>0</th>\n",
       "      <td>1</td>\n",
       "      <td>3.021%</td>\n",
       "    </tr>\n",
       "    <tr>\n",
       "      <th>1</th>\n",
       "      <td>2</td>\n",
       "      <td>3.033%</td>\n",
       "    </tr>\n",
       "    <tr>\n",
       "      <th>2</th>\n",
       "      <td>3</td>\n",
       "      <td>3.038%</td>\n",
       "    </tr>\n",
       "    <tr>\n",
       "      <th>3</th>\n",
       "      <td>4</td>\n",
       "      <td>3.124%</td>\n",
       "    </tr>\n",
       "    <tr>\n",
       "      <th>4</th>\n",
       "      <td>5</td>\n",
       "      <td>3.222%</td>\n",
       "    </tr>\n",
       "    <tr>\n",
       "      <th>5</th>\n",
       "      <td>6</td>\n",
       "      <td>3.293%</td>\n",
       "    </tr>\n",
       "    <tr>\n",
       "      <th>6</th>\n",
       "      <td>7</td>\n",
       "      <td>3.343%</td>\n",
       "    </tr>\n",
       "    <tr>\n",
       "      <th>7</th>\n",
       "      <td>8</td>\n",
       "      <td>3.382%</td>\n",
       "    </tr>\n",
       "    <tr>\n",
       "      <th>8</th>\n",
       "      <td>9</td>\n",
       "      <td>3.424%</td>\n",
       "    </tr>\n",
       "    <tr>\n",
       "      <th>9</th>\n",
       "      <td>10</td>\n",
       "      <td>3.475%</td>\n",
       "    </tr>\n",
       "    <tr>\n",
       "      <th>10</th>\n",
       "      <td>11</td>\n",
       "      <td>3.540%</td>\n",
       "    </tr>\n",
       "    <tr>\n",
       "      <th>11</th>\n",
       "      <td>12</td>\n",
       "      <td>3.612%</td>\n",
       "    </tr>\n",
       "    <tr>\n",
       "      <th>12</th>\n",
       "      <td>13</td>\n",
       "      <td>3.686%</td>\n",
       "    </tr>\n",
       "    <tr>\n",
       "      <th>13</th>\n",
       "      <td>14</td>\n",
       "      <td>3.758%</td>\n",
       "    </tr>\n",
       "    <tr>\n",
       "      <th>14</th>\n",
       "      <td>15</td>\n",
       "      <td>3.825%</td>\n",
       "    </tr>\n",
       "    <tr>\n",
       "      <th>15</th>\n",
       "      <td>16</td>\n",
       "      <td>3.886%</td>\n",
       "    </tr>\n",
       "    <tr>\n",
       "      <th>16</th>\n",
       "      <td>17</td>\n",
       "      <td>3.942%</td>\n",
       "    </tr>\n",
       "    <tr>\n",
       "      <th>17</th>\n",
       "      <td>18</td>\n",
       "      <td>3.993%</td>\n",
       "    </tr>\n",
       "    <tr>\n",
       "      <th>18</th>\n",
       "      <td>19</td>\n",
       "      <td>4.039%</td>\n",
       "    </tr>\n",
       "    <tr>\n",
       "      <th>19</th>\n",
       "      <td>20</td>\n",
       "      <td>4.082%</td>\n",
       "    </tr>\n",
       "    <tr>\n",
       "      <th>20</th>\n",
       "      <td>21</td>\n",
       "      <td>4.121%</td>\n",
       "    </tr>\n",
       "    <tr>\n",
       "      <th>21</th>\n",
       "      <td>22</td>\n",
       "      <td>4.158%</td>\n",
       "    </tr>\n",
       "    <tr>\n",
       "      <th>22</th>\n",
       "      <td>23</td>\n",
       "      <td>4.191%</td>\n",
       "    </tr>\n",
       "    <tr>\n",
       "      <th>23</th>\n",
       "      <td>24</td>\n",
       "      <td>4.223%</td>\n",
       "    </tr>\n",
       "    <tr>\n",
       "      <th>24</th>\n",
       "      <td>25</td>\n",
       "      <td>4.252%</td>\n",
       "    </tr>\n",
       "    <tr>\n",
       "      <th>25</th>\n",
       "      <td>26</td>\n",
       "      <td>4.279%</td>\n",
       "    </tr>\n",
       "    <tr>\n",
       "      <th>26</th>\n",
       "      <td>27</td>\n",
       "      <td>4.304%</td>\n",
       "    </tr>\n",
       "    <tr>\n",
       "      <th>27</th>\n",
       "      <td>28</td>\n",
       "      <td>4.328%</td>\n",
       "    </tr>\n",
       "    <tr>\n",
       "      <th>28</th>\n",
       "      <td>29</td>\n",
       "      <td>4.350%</td>\n",
       "    </tr>\n",
       "    <tr>\n",
       "      <th>29</th>\n",
       "      <td>30</td>\n",
       "      <td>4.371%</td>\n",
       "    </tr>\n",
       "    <tr>\n",
       "      <th>...</th>\n",
       "      <td>...</td>\n",
       "      <td>...</td>\n",
       "    </tr>\n",
       "    <tr>\n",
       "      <th>70</th>\n",
       "      <td>71</td>\n",
       "      <td>4.732%</td>\n",
       "    </tr>\n",
       "    <tr>\n",
       "      <th>71</th>\n",
       "      <td>72</td>\n",
       "      <td>4.736%</td>\n",
       "    </tr>\n",
       "    <tr>\n",
       "      <th>72</th>\n",
       "      <td>73</td>\n",
       "      <td>4.739%</td>\n",
       "    </tr>\n",
       "    <tr>\n",
       "      <th>73</th>\n",
       "      <td>74</td>\n",
       "      <td>4.743%</td>\n",
       "    </tr>\n",
       "    <tr>\n",
       "      <th>74</th>\n",
       "      <td>75</td>\n",
       "      <td>4.746%</td>\n",
       "    </tr>\n",
       "    <tr>\n",
       "      <th>75</th>\n",
       "      <td>76</td>\n",
       "      <td>4.750%</td>\n",
       "    </tr>\n",
       "    <tr>\n",
       "      <th>76</th>\n",
       "      <td>77</td>\n",
       "      <td>4.753%</td>\n",
       "    </tr>\n",
       "    <tr>\n",
       "      <th>77</th>\n",
       "      <td>78</td>\n",
       "      <td>4.756%</td>\n",
       "    </tr>\n",
       "    <tr>\n",
       "      <th>78</th>\n",
       "      <td>79</td>\n",
       "      <td>4.759%</td>\n",
       "    </tr>\n",
       "    <tr>\n",
       "      <th>79</th>\n",
       "      <td>80</td>\n",
       "      <td>4.762%</td>\n",
       "    </tr>\n",
       "    <tr>\n",
       "      <th>80</th>\n",
       "      <td>81</td>\n",
       "      <td>4.765%</td>\n",
       "    </tr>\n",
       "    <tr>\n",
       "      <th>81</th>\n",
       "      <td>82</td>\n",
       "      <td>4.768%</td>\n",
       "    </tr>\n",
       "    <tr>\n",
       "      <th>82</th>\n",
       "      <td>83</td>\n",
       "      <td>4.771%</td>\n",
       "    </tr>\n",
       "    <tr>\n",
       "      <th>83</th>\n",
       "      <td>84</td>\n",
       "      <td>4.773%</td>\n",
       "    </tr>\n",
       "    <tr>\n",
       "      <th>84</th>\n",
       "      <td>85</td>\n",
       "      <td>4.776%</td>\n",
       "    </tr>\n",
       "    <tr>\n",
       "      <th>85</th>\n",
       "      <td>86</td>\n",
       "      <td>4.779%</td>\n",
       "    </tr>\n",
       "    <tr>\n",
       "      <th>86</th>\n",
       "      <td>87</td>\n",
       "      <td>4.781%</td>\n",
       "    </tr>\n",
       "    <tr>\n",
       "      <th>87</th>\n",
       "      <td>88</td>\n",
       "      <td>4.784%</td>\n",
       "    </tr>\n",
       "    <tr>\n",
       "      <th>88</th>\n",
       "      <td>89</td>\n",
       "      <td>4.786%</td>\n",
       "    </tr>\n",
       "    <tr>\n",
       "      <th>89</th>\n",
       "      <td>90</td>\n",
       "      <td>4.789%</td>\n",
       "    </tr>\n",
       "    <tr>\n",
       "      <th>90</th>\n",
       "      <td>91</td>\n",
       "      <td>4.791%</td>\n",
       "    </tr>\n",
       "    <tr>\n",
       "      <th>91</th>\n",
       "      <td>92</td>\n",
       "      <td>4.793%</td>\n",
       "    </tr>\n",
       "    <tr>\n",
       "      <th>92</th>\n",
       "      <td>93</td>\n",
       "      <td>4.795%</td>\n",
       "    </tr>\n",
       "    <tr>\n",
       "      <th>93</th>\n",
       "      <td>94</td>\n",
       "      <td>4.798%</td>\n",
       "    </tr>\n",
       "    <tr>\n",
       "      <th>94</th>\n",
       "      <td>95</td>\n",
       "      <td>4.800%</td>\n",
       "    </tr>\n",
       "    <tr>\n",
       "      <th>95</th>\n",
       "      <td>96</td>\n",
       "      <td>4.802%</td>\n",
       "    </tr>\n",
       "    <tr>\n",
       "      <th>96</th>\n",
       "      <td>97</td>\n",
       "      <td>4.804%</td>\n",
       "    </tr>\n",
       "    <tr>\n",
       "      <th>97</th>\n",
       "      <td>98</td>\n",
       "      <td>4.806%</td>\n",
       "    </tr>\n",
       "    <tr>\n",
       "      <th>98</th>\n",
       "      <td>99</td>\n",
       "      <td>4.808%</td>\n",
       "    </tr>\n",
       "    <tr>\n",
       "      <th>99</th>\n",
       "      <td>100</td>\n",
       "      <td>4.810%</td>\n",
       "    </tr>\n",
       "  </tbody>\n",
       "</table>\n",
       "<p>100 rows × 2 columns</p>\n",
       "</div>"
      ],
      "text/plain": [
       "    Year Spot Rates\n",
       "0      1     3.021%\n",
       "1      2     3.033%\n",
       "2      3     3.038%\n",
       "3      4     3.124%\n",
       "4      5     3.222%\n",
       "5      6     3.293%\n",
       "6      7     3.343%\n",
       "7      8     3.382%\n",
       "8      9     3.424%\n",
       "9     10     3.475%\n",
       "10    11     3.540%\n",
       "11    12     3.612%\n",
       "12    13     3.686%\n",
       "13    14     3.758%\n",
       "14    15     3.825%\n",
       "15    16     3.886%\n",
       "16    17     3.942%\n",
       "17    18     3.993%\n",
       "18    19     4.039%\n",
       "19    20     4.082%\n",
       "20    21     4.121%\n",
       "21    22     4.158%\n",
       "22    23     4.191%\n",
       "23    24     4.223%\n",
       "24    25     4.252%\n",
       "25    26     4.279%\n",
       "26    27     4.304%\n",
       "27    28     4.328%\n",
       "28    29     4.350%\n",
       "29    30     4.371%\n",
       "..   ...        ...\n",
       "70    71     4.732%\n",
       "71    72     4.736%\n",
       "72    73     4.739%\n",
       "73    74     4.743%\n",
       "74    75     4.746%\n",
       "75    76     4.750%\n",
       "76    77     4.753%\n",
       "77    78     4.756%\n",
       "78    79     4.759%\n",
       "79    80     4.762%\n",
       "80    81     4.765%\n",
       "81    82     4.768%\n",
       "82    83     4.771%\n",
       "83    84     4.773%\n",
       "84    85     4.776%\n",
       "85    86     4.779%\n",
       "86    87     4.781%\n",
       "87    88     4.784%\n",
       "88    89     4.786%\n",
       "89    90     4.789%\n",
       "90    91     4.791%\n",
       "91    92     4.793%\n",
       "92    93     4.795%\n",
       "93    94     4.798%\n",
       "94    95     4.800%\n",
       "95    96     4.802%\n",
       "96    97     4.804%\n",
       "97    98     4.806%\n",
       "98    99     4.808%\n",
       "99   100     4.810%\n",
       "\n",
       "[100 rows x 2 columns]"
      ]
     },
     "execution_count": 94,
     "metadata": {},
     "output_type": "execute_result"
    }
   ],
   "source": [
    "WS_Yield_Curve = pd.DataFrame({'Year': year, 'Spot Rates': spot_rates})\n",
    "WS_Yield_Curve['Spot Rates'] = pd.Series([\"{0:.3f}%\".format(val * 100) for val in WS_Yield_Curve['Spot Rates']], index = WS_Yield_Curve.index)\n",
    "WS_Yield_Curve"
   ]
  },
  {
   "cell_type": "markdown",
   "metadata": {},
   "source": [
    "### 5. Save the model"
   ]
  },
  {
   "cell_type": "code",
   "execution_count": 96,
   "metadata": {},
   "outputs": [],
   "source": [
    "#save final data into Excel file\n",
    "\n",
    "from datetime import date\n",
    "today = date.today()\n",
    "year = today.year\n",
    "\n",
    "dirPOutput = '//vact-svr/TIBActuarial/3 Submission/310 BNM/QT3/Working/'\n",
    "\n",
    "day = str(today.day) + \"-\" + str(today.month) + \"-\" + str(today.year)\n",
    "outfile = \"Smith Wilson Yield Curve @ \" + day + \".xlsx\"\n",
    "WS_Yield_Curve.to_excel(dirPOutput + outfile)"
   ]
  }
 ],
 "metadata": {
  "kernelspec": {
   "display_name": "Python 3",
   "language": "python",
   "name": "python3"
  },
  "language_info": {
   "codemirror_mode": {
    "name": "ipython",
    "version": 3
   },
   "file_extension": ".py",
   "mimetype": "text/x-python",
   "name": "python",
   "nbconvert_exporter": "python",
   "pygments_lexer": "ipython3",
   "version": "3.7.0"
  }
 },
 "nbformat": 4,
 "nbformat_minor": 2
}
